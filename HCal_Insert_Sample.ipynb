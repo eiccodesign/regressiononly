{
 "cells": [
  {
   "cell_type": "markdown",
   "metadata": {},
   "source": [
    "# Sample Notebook for running regression on HCal Insert."
   ]
  },
  {
   "cell_type": "code",
   "execution_count": null,
   "metadata": {},
   "outputs": [],
   "source": [
    "#Python/Data\n",
    "import matplotlib.pyplot as plt\n",
    "from matplotlib import gridspec\n",
    "import matplotlib.colors as mcolors\n",
    "import numpy as np\n",
    "import h5py as h5\n",
    "\n",
    "#ML\n",
    "import energyflow as ef\n",
    "from energyflow.archs import PFN\n",
    "from energyflow.utils import data_split\n",
    "import tensorflow as tf\n",
    "\n",
    "from sklearn.preprocessing import StandardScaler\n"
   ]
  },
  {
   "cell_type": "code",
   "execution_count": null,
   "metadata": {},
   "outputs": [],
   "source": [
    "filename = '/home/miguel/generate_data/to_hdf5/insert_reco_pi-_60GeV_theta_20.83deg_10000events.edm4hep.hdf5'#insert_reco_pi-_50GeV_theta_2.83deg.edm4hep.hdf5'#rec_pionplus_10_80_HCALonly.hdf5'#rec_pipl1000_0-100GeV.hdf5'\n",
    "h5_file = h5.File(filename,'r')\n",
    "print(list(h5_file.keys()))\n",
    "images = h5_file['hcal']\n",
    "truth = h5_file['mc']\n",
    "\n",
    "print(images.shape)\n",
    "print(truth.shape)\n",
    "#print(images.chunks) # [0] should be = batch_size"
   ]
  },
  {
   "cell_type": "code",
   "execution_count": null,
   "metadata": {},
   "outputs": [],
   "source": [
    "N_Events = 10000\n",
    "#X = images[0:N_Events]\n",
    "#Y = truth[0:N_Events,8,0]\n",
    "\n",
    "X = images[0:N_Events]\n",
    "Y = truth[0:N_Events,8,0]\n",
    "\n",
    "print(np.shape(X))\n",
    "print(np.shape(Y))\n",
    "plt.hist(Y)\n",
    "plt.title(\"MC Energy\")\n",
    "_ = plt.xlabel(\"Energy [GeV]\")"
   ]
  },
  {
   "cell_type": "code",
   "execution_count": null,
   "metadata": {},
   "outputs": [],
   "source": [
    "#basicreco = np.sum(np.nan_to_num(X[:,0,:]),axis=1)\n",
    "#print(basicreco)\n",
    "#print(basicreco.shape)\n",
    "#print(Y.shape)\n",
    "#plt.scatter(Y,basicreco,alpha=0.3)\n",
    "#plt.xlim(-10,110)\n"
   ]
  },
  {
   "cell_type": "code",
   "execution_count": null,
   "metadata": {},
   "outputs": [],
   "source": [
    "#data = []\n",
    "#data.insert(0,np.ravel(X[:,0,:]))\n",
    "#temp = np.ravel(X[:,0,:])\n",
    "#plt.hist(data[0][data[0]!=0],bins=100)\n",
    "#plt.show()"
   ]
  },
  {
   "cell_type": "code",
   "execution_count": null,
   "metadata": {},
   "outputs": [],
   "source": [
    "for i in range(X.shape[1]):\n",
    "    E_mean = np.nanmean(X[:,i,:])\n",
    "    E_stdev = np.nanstd(X[:,i,:])\n",
    "    X[:,i,:] = (X[:,i,:]-E_mean)/E_stdev\n",
    "\n",
    "X = np.nan_to_num(X)\n",
    "Y = np.nan_to_num(Y)"
   ]
  },
  {
   "cell_type": "markdown",
   "metadata": {},
   "source": [
    "# Important: Need to normalize the input `X` data. This is done as (X-Mean)/StdDev. Recomend doing this and adding ECal information in a separate notebook or C file"
   ]
  },
  {
   "cell_type": "code",
   "execution_count": null,
   "metadata": {},
   "outputs": [],
   "source": [
    "cm = plt.cm.get_cmap('plasma')\n",
    "cell_vars = [\"Energy\",\"Cell X\",\"Cell Y\",\"Cell Z\"]\n",
    "\n",
    "data=[]\n",
    "fig = plt.figure(figsize=(18,9))\n",
    "#plt.subplots_adjust(left=None, bottom=1, right=None, top=1.5, wspace=None, hspace=None)\n",
    "#print(images.shape[1])\n",
    "for i in range(X.shape[1]):\n",
    "    ax = plt.subplot(2, 3, i+1)\n",
    "#    data.insert(i,np.ravel(images[0:10000,i,:]))\n",
    "    data.insert(i,np.ravel(X[0:10000,i,:]))\n",
    "\n",
    "    data[i] = data[i][data[i]!=0]\n",
    "    plt.hist(data[i],color=cm(i/X.shape[1]),bins=100)\n",
    "    plt.title(\"%s\"%(cell_vars[i]),fontsize=20)\n",
    "    plt.suptitle(\"Non Normalized Cell Input Data\",fontsize=25)\n",
    "plt.savefig(\"Normalized_Cell_Data.pdf\")"
   ]
  },
  {
   "cell_type": "code",
   "execution_count": null,
   "metadata": {},
   "outputs": [],
   "source": [
    "(X_train, X_val, X_test,\n",
    "Y_train, Y_val, Y_test) = data_split(X, Y, val=0.2, test=0.3,shuffle=True)"
   ]
  },
  {
   "cell_type": "code",
   "execution_count": null,
   "metadata": {},
   "outputs": [],
   "source": [
    "from tensorflow.keras.callbacks import EarlyStopping\n",
    "\n",
    "earlystopping = EarlyStopping(patience=10,\n",
    "                              #verbose=verbose,\n",
    "                              restore_best_weights=True)"
   ]
  },
  {
   "cell_type": "code",
   "execution_count": null,
   "metadata": {
    "scrolled": true
   },
   "outputs": [],
   "source": [
    "learning_rate = 1e-6\n",
    "Phi_sizes, F_sizes = (100, 100, 128), (100, 100, 100)\n",
    "#Phi_sizes, F_sizes = (50, 50, 64), (50, 50, 64)\n",
    "#Phi_sizes, F_sizes = (25, 25, 32), (25, 24, 32)\n",
    "\n",
    "output_act, output_dim = 'linear', 1\n",
    "loss = 'mse' #mean-squared error\n",
    "pfn = PFN(input_dim=X.shape[-1], Phi_sizes=Phi_sizes, F_sizes=F_sizes, \n",
    "          output_act=output_act, output_dim=output_dim, loss=loss, \n",
    "          optimizer=tf.keras.optimizers.Adam(learning_rate=learning_rate),\n",
    "          #callbacks=[earlystopping],\n",
    "          patience=10,\n",
    "          F_dropouts=0.01)"
   ]
  },
  {
   "cell_type": "code",
   "execution_count": null,
   "metadata": {
    "tags": []
   },
   "outputs": [],
   "source": [
    "the_fit = pfn.fit(X_train, Y_train,\n",
    "                  epochs=400, #200 nominal\n",
    "                  batch_size=400,\n",
    "                  validation_data=(X_val, Y_val),\n",
    "                  verbose=1)"
   ]
  },
  {
   "cell_type": "code",
   "execution_count": null,
   "metadata": {
    "scrolled": true
   },
   "outputs": [],
   "source": [
    "pfn.layers\n",
    "pfn.save(\"energy_regression.h5\")\n",
    "mypreds = pfn.predict(X_test,batch_size=400)"
   ]
  },
  {
   "cell_type": "code",
   "execution_count": null,
   "metadata": {},
   "outputs": [],
   "source": [
    "fig = plt.figure(figsize=(28,10))\n",
    "ax = plt.subplot(1, 2, 1)\n",
    "plt.scatter(Y_test,mypreds,alpha=0.3)\n",
    "plt.xlabel(\"Y Test [GeV]\",fontsize=22)\n",
    "plt.xticks(fontsize=20)\n",
    "plt.yticks(fontsize=20)\n",
    "plt.tick_params(direction='in',right=True,top=True,length=10)\n",
    "#plt.ylim(-0.01,100.01)\n",
    "plt.ylim(-10,110)\n",
    "plt.xlim(-10,110)\n",
    "\n",
    "plt.ylabel(\"Y Pred [GeV]\",fontsize=22)\n",
    "_ = plt.title(\"Prediction vs. Test\",fontsize=26)\n",
    "#FIXME: find indecies in mypreds where mypreds 50\n",
    "\n",
    "ax = plt.subplot(1, 2, 2)\n",
    "plt.plot(the_fit.history['loss'])\n",
    "plt.plot(the_fit.history['val_loss'])\n",
    "plt.title('Model Loss vs. Epoch',fontsize=26)\n",
    "plt.text(0.73,0.8,\" Rate = %1.7f\"%(learning_rate),\n",
    "         transform=ax.transAxes,fontsize=20)\n",
    "plt.ylabel('Mean-Squared Error',fontsize=22)\n",
    "plt.yscale('log')\n",
    "plt.xlabel('epoch',fontsize=22)\n",
    "plt.xticks(fontsize=20)\n",
    "plt.yticks(fontsize=20)\n",
    "plt.tick_params(direction='in',right=True,top=True,length=10)\n",
    "plt.tick_params(direction='in',right=True,top=True,which='minor')\n",
    "#plt.xlim([-1,201])\n",
    "plt.ylim([1,10000])\n",
    "plt.legend(['train', 'validation'], loc='upper right',fontsize=22)\n",
    "plt.savefig(\"Prediction_Test.pdf\")"
   ]
  },
  {
   "cell_type": "code",
   "execution_count": null,
   "metadata": {},
   "outputs": [],
   "source": [
    "print(Y_test.shape)\n",
    "print(Y_test[:])\n",
    "print(np.array(mypreds.flatten()))\n",
    "print(X_test[:,0,:].shape)\n",
    "\n",
    "print(np.sum(X_test[:,0,:],axis=1).shape)\n",
    "\n",
    "basic = np.sum(X_test[:,0,:],axis=1)"
   ]
  },
  {
   "cell_type": "code",
   "execution_count": null,
   "metadata": {},
   "outputs": [],
   "source": [
    "from scipy import stats\n",
    "import pandas as pd\n",
    "\n",
    "df = {}\n",
    "df['gen'] = Y_test[:]\n",
    "df['reco'] = mypreds.flatten()[:]\n",
    "df['basic'] = basic\n",
    "df = pd.DataFrame.from_dict(df)\n",
    "\n",
    "df.eval('rel_res = (reco)/gen',inplace=True)\n",
    "df.eval('rel_res_basic = basic/gen',inplace=True)\n",
    "\n",
    "df.head()"
   ]
  },
  {
   "cell_type": "code",
   "execution_count": null,
   "metadata": {},
   "outputs": [],
   "source": [
    "from scipy import stats\n",
    "import pandas as pd\n",
    "\n",
    "df = {}\n",
    "df['gen'] = Y_test[:]\n",
    "df['reco'] = mypreds.flatten()[:]\n",
    "df['basic'] = basic\n",
    "df = pd.DataFrame.from_dict(df)\n",
    "\n",
    "df.eval('rel_res = (reco)/gen',inplace=True)\n",
    "df.eval('rel_res_basic = basic/gen',inplace=True)\n",
    "df.head()\n",
    "fig = plt.figure( figsize=(8, 6))\n",
    "temp = df.groupby(pd.cut(df['gen'], bins=np.geomspace(1,80,12)))['rel_res']\n",
    "trim_mean = temp.apply(stats.trim_mean, 0.05)\n",
    "trim_std = temp.apply(stats.mstats.trimmed_std, limits=(0.05,0.05))\n",
    "temp = temp.agg(['mean', 'std', 'size']).reset_index()\n",
    "x = [i.mid for i in temp['gen']]\n",
    "print (x)\n",
    "plt.plot(x,temp['std']/temp['mean'],'o-',label='STD')\n",
    "plt.plot(x, trim_std/trim_mean,'o-',label='90% STD')\n",
    "\n",
    "\n",
    "\n",
    "\n",
    "\n",
    "\n",
    "\n",
    "\n",
    "\n",
    "\n",
    "\n",
    "plt.xlabel('Generated energy [GeV]',fontsize=22)\n",
    "\n",
    "plt.legend(fontsize=22)\n",
    "plt.grid()\n",
    "plt.ylabel('Relative energy resolution')\n",
    "plt.ylim([0.0,0.45])\n",
    "\n",
    "def stochastic(a,b):\n",
    "    return a/np.sqrt(b) +0.034\n",
    "\n",
    "#energy = np.linspace(1,10,100)\n",
    "#plt.plot(energy, stochastic(0.34,energy))\n",
    "plt.tight_layout()\n",
    "plt.show()\n",
    "\n",
    "\n"
   ]
  },
  {
   "cell_type": "code",
   "execution_count": null,
   "metadata": {},
   "outputs": [],
   "source": [
    "#Binning\n",
    "N = 40\n",
    "E_Max = 100\n",
    "E_Bins = np.linspace(0,E_Max,N+1)\n",
    "\n",
    "#Goal: slices defined by bin of truthE, filled with prediction distributions\n",
    "indecies = np.digitize(Y_test,E_Bins)\n",
    "max_count = ((np.bincount(indecies).max()))\n",
    "slices = np.empty((N,max_count))\n",
    "slices.fill(np.nan)\n",
    "\n",
    "counter = np.zeros(N,int)\n",
    "avg_truth = np.zeros(N,float)\n",
    "\n",
    "for pred,bin,truth in zip(mypreds,indecies,Y_test):\n",
    "    slices[bin-1][counter[bin-1]] = pred\n",
    "    counter[bin-1]+=1\n",
    "    avg_truth[bin-1]+=truth\n",
    "\n",
    "#Resoluton: stdev(pred)/avg_truth    \n",
    "avg_truth = avg_truth/counter\n",
    "stdev_pred = np.nanstd(slices,axis=1)\n",
    "resolution = stdev_pred/avg_truth"
   ]
  },
  {
   "cell_type": "code",
   "execution_count": null,
   "metadata": {},
   "outputs": [],
   "source": [
    "fig=plt.figure(figsize=(14,10))\n",
    "plt.title(\"PFN reconstruction\",fontsize=25)\n",
    "plt.ylabel(\"$(\\sigma_{E,\\mathrm{Pred}}/E_\\mathrm{Truth})$\",fontsize=24)\n",
    "plt.xlabel(\"$E_\\mathrm{Truth}$ [GeV]\",fontsize=24)\n",
    "plt.xticks(fontsize=20)\n",
    "plt.yticks(fontsize=20)\n",
    "plt.tick_params(direction='in',right=True,top=True,length=10)\n",
    "#plt.ylim(-0.02,0.4)\n",
    "#plt.ylim(0,0.22)\n",
    "plt.xlim(-0.01,100.01)\n",
    "errors = 1.0/(np.sqrt(2*counter-2))*stdev_pred\n",
    "ax = plt.subplot(1,1,1)\n",
    "first_bin = 0\n",
    "last_bin = N\n",
    "#plt.errorbar(avg_truth[first_bin:last_bin],resolution[first_bin:last_bin],yerr=errors[first_bin:last_bin],\n",
    "#             linestyle=\"-\",linewidth=2.0,capsize=4,capthick=1.2,elinewidth=1.2,ecolor='black',marker=\"o\",color='dodgerblue',alpha=0.7)\n",
    "\n",
    "plt.errorbar(avg_truth[first_bin:last_bin],resolution[first_bin:last_bin],\n",
    "             linestyle=\"-\",linewidth=2.0,capsize=4,capthick=1.2,elinewidth=1.2,ecolor='black',marker=\"o\",color='dodgerblue',alpha=0.7)\n",
    "\n",
    "_ = plt.text(0.7,0.93,\"Stat. Error: $\\dfrac{\\sigma}{\\sqrt{2N-2} } $\",transform=ax.transAxes,fontsize=20)\n",
    "plt.savefig(\"resolution_plot.pdf\")"
   ]
  },
  {
   "cell_type": "code",
   "execution_count": null,
   "metadata": {},
   "outputs": [],
   "source": [
    "fig,axs = plt.subplots(int(N/10),10, figsize=(32, 16),sharex=False,sharey=True,constrained_layout=True)\n",
    "for i in range(N):\n",
    "    row = int(i/10)\n",
    "    col = i%10\n",
    "    ax = axs[row,col]\n",
    "    if (col==0):\n",
    "        ax.set_ylabel(\"Counts\",fontsize=15)\n",
    "    #temp_bin = np.linspace(avg_truth[i]-2.0,avg_truth[i]+2.0,16)\n",
    "    ax.set_title(\"%1.1f $ < E_\\mathrm{Truth} < $%1.1f [GeV]\"%(E_Bins[i],E_Bins[i+1]))\n",
    "    ax.set_xlabel(\"Predicted Eenergy\")\n",
    "    ax.hist(slices[i],range=(0,100),bins=40,label=\"Predicted Energies\")\n",
    "    ax.axvline(x=avg_truth[i],color='red',alpha=0.3,linestyle=\"--\",label=\"Avg. $E_\\mathrm{Truth} = %1.1f$\"%(avg_truth[i]))\n",
    "    ax.legend(fontsize=7.5)\n",
    "    ax.tick_params(direction='in',right=True,top=True,length=5)\n",
    "plt.savefig(\"resolutions_slices.pdf\")"
   ]
  },
  {
   "cell_type": "code",
   "execution_count": null,
   "metadata": {},
   "outputs": [],
   "source": [
    "from copy import copy\n",
    "from matplotlib.colors import LogNorm\n",
    "fig, axes = plt.subplots(nrows=1, figsize=(14, 10), constrained_layout=True)\n",
    "cmap = copy(plt.cm.plasma)\n",
    "cmap.set_bad(cmap(0))\n",
    "edges=np.linspace(-10,110,121)\n",
    "h, xedges, yedges = np.histogram2d(Y_test, mypreds[:,0], bins=[edges, edges])\n",
    "#xedges=yedges\n",
    "pcm = axes.pcolormesh(xedges, yedges, h.T, cmap=cmap,\n",
    "                         norm=LogNorm(vmin=1.0e-2,vmax=2.0e3), rasterized=True)\n",
    "cb = fig.colorbar(pcm, ax=axes, pad=0)\n",
    "cb.set_label(\"Counts\",fontsize=22)\n",
    "cb.ax.tick_params(labelsize=20)\n",
    "axes.set_xlabel(\"Generated Energy\",fontsize=22)\n",
    "plt.yticks(fontsize=20)\n",
    "plt.xticks(fontsize=20)\n",
    "plt.ylim(-10,110)\n",
    "plt.xlim(-10,110)\n",
    "axes.set_ylabel(\"Predicted Energy\",fontsize=25)\n",
    "axes.set_title(\"Predicted vs. Generated Energy\",fontsize=30)\n",
    "plt.savefig(\"Gen_vs_Pred.pdf\")\n",
    "print(np.size(yedges))"
   ]
  },
  {
   "cell_type": "code",
   "execution_count": null,
   "metadata": {},
   "outputs": [],
   "source": [
    "#Find the peak and zoom in\n",
    "fig = plt.figure(figsize=(18,5))\n",
    "plt.suptitle(\"Predictions\",fontsize=25)\n",
    "ax = plt.subplot(1, 2, 1)\n",
    "plt.xlabel(\"Predicted Energy [GeV]\",fontsize=18)\n",
    "bins = np.linspace(0,100,300)\n",
    "freq = plt.hist(mypreds, bins=bins)\n",
    "\n",
    "ax = plt.subplot(1, 2, 2)\n",
    "plt.xlabel(\"Predicted Energy [GeV]\",fontsize=18)\n",
    "plt.text(0.03,0.9,\"[Zoomed In]\",transform=ax.transAxes,fontsize=18)\n",
    "maxbin = np.argmax(freq[0])\n",
    "zoom = np.linspace(bins[maxbin]-0.01,bins[maxbin]+0.01,100)\n",
    "mask = np.where(np.logical_and(mypreds>=bins[maxbin]-0.01, mypreds<=bins[maxbin]+0.01))[0]\n",
    "_ = plt.hist(mypreds[mask],alpha=.3,color=\"black\",bins=zoom)\n",
    "print(\"%i / %i Events\"%(len(mask),len(mypreds)),\"[{:.3%}]\".format( (len(mask)/len(mypreds)) ) )"
   ]
  },
  {
   "cell_type": "code",
   "execution_count": null,
   "metadata": {},
   "outputs": [],
   "source": [
    "cm = plt.cm.get_cmap('plasma')\n",
    "cell_vars = [\"Energy\",\"Cell X\",\"Cell Y\",\"Cell Z\",\"Layer 1 Position\", \"Layer 2 Position\"]\n",
    "bins = [np.linspace(0.01,500,200),np.linspace(-500,500,100),\n",
    "        np.linspace(-500,1300,100),np.linspace(-1.5,2.5,100),\n",
    "        np.linspace(-275,350,100),np.linspace(-275,350,100)]\n",
    "weird_data=X_test[mask]\n",
    "fig = plt.figure(figsize=(18,9))\n",
    "#plt.subplots_adjust(left=None, bottom=1, right=None, top=1.5, wspace=None, hspace=None)\n",
    "for i in range(images.shape[1]-1):\n",
    "    ax = plt.subplot(2, 3, i+1)\n",
    "    plt.scatter(np.ravel(weird_data[:,i,:]),np.ravel(weird_data[:,i+1,:]),s=2)\n",
    "    plt.xlabel(cell_vars[i])\n",
    "    plt.ylabel(cell_vars[i+1])\n",
    "    #plt.title(\"%s\"%(cell_vars[i]),fontsize=20)\n",
    "    plt.suptitle(\"Normalized Cell Scatter Plots\",fontsize=25)\n",
    "plt.savefig(\"weird_Cell_Data.pdf\")"
   ]
  },
  {
   "cell_type": "code",
   "execution_count": null,
   "metadata": {},
   "outputs": [],
   "source": []
  }
 ],
 "metadata": {
  "kernelspec": {
   "display_name": "Python 3",
   "language": "python",
   "name": "python3"
  },
  "language_info": {
   "codemirror_mode": {
    "name": "ipython",
    "version": 3
   },
   "file_extension": ".py",
   "mimetype": "text/x-python",
   "name": "python",
   "nbconvert_exporter": "python",
   "pygments_lexer": "ipython3",
   "version": "3.8.10"
  }
 },
 "nbformat": 4,
 "nbformat_minor": 5
}
