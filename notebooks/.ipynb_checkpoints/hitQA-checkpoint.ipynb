{
 "cells": [
  {
   "cell_type": "markdown",
   "metadata": {},
   "source": [
    "## This notebook shows how to open data files (produced in DD4Hep), and plot hit distributions. It uses awkard arrays. "
   ]
  },
  {
   "cell_type": "code",
   "execution_count": 2,
   "metadata": {},
   "outputs": [
    {
     "data": {
      "text/plain": [
       "'ZDC'"
      ]
     },
     "execution_count": 2,
     "metadata": {},
     "output_type": "execute_result"
    }
   ],
   "source": [
    "#%matplotlib notebook\n",
    "import uproot as ur\n",
    "import matplotlib.pyplot as plt\n",
    "#import k3d\n",
    "import numpy as np\n",
    "import awkward as ak\n",
    "import mplhep as hep\n",
    "#hep.set_style(hep.style.CMS)\n",
    "#hep.set_style(\"CMS\")\n",
    "import matplotlib.colors as mcolors\n",
    "import subprocess\n",
    "\n",
    "# Run the Git command to get the current branch\n",
    "current_branch = subprocess.check_output([\"git\", \"rev-parse\", \"--abbrev-ref\", \"HEAD\"]).strip().decode(\"utf-8\")\n",
    "\n",
    "# Print the current branch\n",
    "current_branch"
   ]
  },
  {
   "cell_type": "markdown",
   "metadata": {},
   "source": [
    "## Get data, transform into akward arrays"
   ]
  },
  {
   "cell_type": "code",
   "execution_count": null,
   "metadata": {
    "tags": []
   },
   "outputs": [],
   "source": [
    "#input_file = 'rec_piplus_1k.root'\n",
    "input_file = \"insert_reco_pi+_55GeV_theta_17deg.root\"\n",
    "#filename = \"hcal_only.root\"\n",
    "events = ur.open(\"%s:events\"%(input_file))\n",
    "#events.show()\n",
    "events.keys()\n",
    "arrays = events.arrays()\n"
   ]
  },
  {
   "cell_type": "markdown",
   "metadata": {},
   "source": [
    "## Hit postion distributions"
   ]
  },
  {
   "cell_type": "code",
   "execution_count": null,
   "metadata": {},
   "outputs": [],
   "source": [
    "fig = plt.figure( figsize=(8, 6))\n",
    "\n",
    "#plt.hist(ak.flatten(arrays['HcalEndcapPHitsReco.local.x']),bins=60)\n",
    "#plt.hist(ak.flatten(arrays['HcalEndcapPHitsReco.local.y']),bins=60)\n",
    "plt.hist(ak.flatten(arrays['HcalEndcapPHitsReco.position.z']),bins=100, range=(3000,5000),label='HCAL')\n",
    "plt.hist(ak.flatten(arrays['HcalEndcapPHitsReco.position.z']),bins=100,range=(3000,5000), label='ECAL')\n",
    "plt.yscale('log')\n",
    "plt.xlabel('z position [mm]')\n",
    "plt.ylabel('hits')\n",
    "plt.legend()\n",
    "plt.show()"
   ]
  },
  {
   "cell_type": "code",
   "execution_count": null,
   "metadata": {},
   "outputs": [],
   "source": [
    "fig = plt.figure( figsize=(8, 6))\n",
    "plt.hist(ak.flatten(arrays['EcalEndcapPHitsReco.local.x']),bins=60,label='ecal x',alpha=0.85,histtype='step')\n",
    "plt.hist(ak.flatten(arrays['EcalEndcapPHitsReco.local.y']),bins=60, label='ecal y',alpha=0.85,histtype='step')\n",
    "plt.hist(ak.flatten(arrays['HcalEndcapPHitsReco.local.x']),bins=60,label='hcal x',alpha=0.85,histtype='step')\n",
    "plt.hist(ak.flatten(arrays['HcalEndcapPHitsReco.local.y']),bins=60, label='hcal y',alpha=0.85,histtype='step')\n",
    "plt.legend()\n",
    "#plt.yscale('log')\n",
    "plt.xlabel('position [mm]')\n",
    "plt.ylabel('hits')\n",
    "plt.show()"
   ]
  },
  {
   "cell_type": "code",
   "execution_count": null,
   "metadata": {
    "scrolled": true
   },
   "outputs": [],
   "source": [
    "fig,ax = plt.subplots(1,2, figsize=(16, 6),sharex=True,sharey=True)\n",
    "x = ak.flatten(arrays['EcalEndcapPHitsReco.local.x'])\n",
    "y = ak.flatten(arrays['EcalEndcapPHitsReco.local.y'])\n",
    "ax[0].hist2d(np.array(x),np.array(y),bins=200, range=([-3500,3500],[-3500,3500]),norm=mcolors.PowerNorm(0.2))\n",
    "\n",
    "x = ak.flatten(arrays['HcalEndcapPHitsReco.local.x'])\n",
    "y = ak.flatten(arrays['HcalEndcapPHitsReco.local.y'])\n",
    "ax[1].hist2d(np.array(x),np.array(y),bins=200, range=([-3500,3500],[-3500,3500]),norm=mcolors.PowerNorm(0.2))\n",
    "\n",
    "\n",
    "ax[1].set_title('HCAL hits')\n",
    "ax[0].set_title('ECAL hits')\n",
    "\n",
    "plt.show()"
   ]
  },
  {
   "cell_type": "code",
   "execution_count": null,
   "metadata": {},
   "outputs": [],
   "source": [
    "fig,ax = plt.subplots(1,2, figsize=(16, 6),sharex=True,sharey=True)\n",
    "x = ak.flatten(arrays['EcalEndcapPHitsReco.position.z'])\n",
    "y = ak.flatten(arrays['EcalEndcapPHitsReco.local.y'])\n",
    "ax[0].hist2d(np.array(x),np.array(y),bins=200, range=([3500,5000],[-5000,5000]),norm=mcolors.PowerNorm(0.2))\n",
    "\n",
    "x = ak.flatten(arrays['HcalEndcapPHitsReco.position.z'])\n",
    "y = ak.flatten(arrays['HcalEndcapPHitsReco.local.y'])\n",
    "ax[1].hist2d(np.array(x),np.array(y),bins=200, range=([3500,5000],[-5000,5000]),norm=mcolors.PowerNorm(0.2))\n",
    "\n",
    "\n",
    "ax[0].set_xlabel('z position [mm]')\n",
    "ax[1].set_xlabel('y position [mm]')\n",
    "\n",
    "ax[1].set_title('HCAL hits')\n",
    "ax[0].set_title('ECAL hits')\n",
    "\n",
    "plt.show()"
   ]
  },
  {
   "cell_type": "markdown",
   "metadata": {},
   "source": [
    "## Hit energy distributions"
   ]
  },
  {
   "cell_type": "code",
   "execution_count": null,
   "metadata": {},
   "outputs": [],
   "source": [
    "fig = plt.figure( figsize=(8, 6))\n",
    "plt.hist(ak.flatten(arrays['EcalEndcapPHitsReco.energy']),bins=np.geomspace(0.0001,1,100),label='ECAL',alpha=0.85,histtype='step')\n",
    "plt.hist(ak.flatten(arrays['HcalEndcapPHitsReco.energy']),bins=np.geomspace(0.0001,1,100), label='HCAL',alpha=0.85,histtype='step')\n",
    "plt.yscale('log')\n",
    "plt.xscale('log')\n",
    "plt.legend()\n",
    "plt.ylabel('hits')\n",
    "plt.xlabel('hit energy [MeV]')\n",
    "plt.show()"
   ]
  },
  {
   "cell_type": "code",
   "execution_count": null,
   "metadata": {},
   "outputs": [],
   "source": [
    "HCALhits = arrays['HcalEndcapPHitsReco.energy'][:,:]\n",
    "mask = HCALhits<1e10\n",
    "HCALhits = HCALhits[mask]\n",
    "HCAL_total = ak.sum(HCALhits,axis=-1)\n",
    "HCAL_average = ak.mean(HCALhits,axis=-1)\n",
    "HCAL_nhits = ak.num(HCALhits)\n",
    "\n",
    "print('total HCAL energy' , HCAL_total)\n",
    "print('Average hit energy in HCAL' , HCAL_average)\n",
    "\n",
    "\n",
    "ECALhits = arrays['EcalEndcapPHitsReco.energy'][:,:]\n",
    "mask = ECALhits<1e10\n",
    "ECALhits = ECALhits[mask]\n",
    "ECAL_total = ak.sum(ECALhits,axis=-1)\n",
    "ECAL_average = ak.mean(ECALhits,axis=-1)\n",
    "ECAL_nhits = ak.num(ECALhits)\n",
    "\n",
    "print('total ECAL energy' , ECAL_total)\n",
    "print('Average hit energy in ECAL' , ECAL_average)\n",
    "\n",
    "print(np.shape(HCAL_total),np.shape(ECAL_total))"
   ]
  },
  {
   "cell_type": "code",
   "execution_count": null,
   "metadata": {},
   "outputs": [],
   "source": [
    "fig = plt.figure( figsize=(6, 6))\n",
    "\n",
    "plt.hist(HCAL_total,bins=100,alpha=0.5,range=(0,40),label='HCAL')\n",
    "plt.hist(ECAL_total,bins=100,alpha=0.5,range=(0,40),label='ECAL')\n",
    "\n",
    "plt.xlabel('Summed energy')\n",
    "plt.ylabel('events')\n",
    "plt.legend()\n",
    "\n",
    "plt.show()\n"
   ]
  },
  {
   "cell_type": "code",
   "execution_count": null,
   "metadata": {},
   "outputs": [],
   "source": [
    "fig = plt.figure( figsize=(6, 6))\n",
    "\n",
    "plt.hist(HCAL_average,bins=100,alpha=0.5,range=(0,1),label='HCAL')\n",
    "plt.hist(ECAL_average,bins=100,alpha=0.5,range=(0,1),label='ECAL')\n",
    "\n",
    "plt.xlabel('average HCAL hit energy')\n",
    "plt.ylabel('events')\n",
    "plt.yscale('log')\n",
    "#plt.xscale('log')\n",
    "plt.legend()\n",
    "plt.show()\n"
   ]
  },
  {
   "cell_type": "code",
   "execution_count": null,
   "metadata": {},
   "outputs": [],
   "source": [
    "fig = plt.figure( figsize=(6, 6))\n",
    "\n",
    "plt.hist(HCAL_nhits,bins=100,alpha=0.5,range=(0,1000),label='HCAL')\n",
    "plt.hist(ECAL_nhits,bins=100,alpha=0.5,range=(0,1000),label='ECAL')\n",
    "\n",
    "plt.xlabel('number of hits')\n",
    "plt.ylabel('events')\n",
    "#plt.yscale('log')\n",
    "#plt.xscale('log')\n",
    "plt.legend()\n",
    "plt.show()\n"
   ]
  },
  {
   "cell_type": "code",
   "execution_count": null,
   "metadata": {},
   "outputs": [],
   "source": [
    "print(arrays['MCParticles.generatorStatus'])\n",
    "pz = ak.to_numpy(arrays['MCParticles.momentum.z'][:,2])\n",
    "py = ak.to_numpy(arrays['MCParticles.momentum.y'][:,2])\n",
    "px = ak.to_numpy(arrays['MCParticles.momentum.x'][:,2])\n",
    "mass = ak.to_numpy(arrays['MCParticles.mass'][:,2])\n",
    "pz_wrong = ak.to_numpy(arrays['MCParticles.momentum.z'][:,2])\n",
    "\n",
    "p = np.sqrt(px*px + py*py+ pz*pz)\n",
    "gen_E = np.sqrt(p*p + mass*mass)-mass"
   ]
  },
  {
   "cell_type": "code",
   "execution_count": null,
   "metadata": {},
   "outputs": [],
   "source": [
    "p_wrong = np.sqrt(ak.to_numpy(arrays['MCParticles.momentum.x'][:,-1])**2 +\n",
    "                  ak.to_numpy(arrays['MCParticles.momentum.y'][:,-1])**2 +\n",
    "                  ak.to_numpy(arrays['MCParticles.momentum.z'][:,-1])**2 )\n",
    "\n",
    "plt.hist(p_wrong,alpha=0.3,label=\"MC Index = -1\")\n",
    "plt.hist(p,alpha=0.3,label=\"MC Index = 2\")\n",
    "plt.legend(fontsize=10)\n",
    "plt.title(\"MC Momentum, Two Ways\")"
   ]
  },
  {
   "cell_type": "code",
   "execution_count": null,
   "metadata": {},
   "outputs": [],
   "source": [
    "fig = plt.figure( figsize=(8, 6))\n",
    "\n",
    "plt.hist(p,range=(0,100),bins=100,alpha=0.5)\n",
    "#plt.hist(gen_E,range=(0,100),bins=100,alpha=0.5)\n",
    "\n",
    "plt.xlabel('generated momentum [GeV]')\n",
    "plt.ylabel('entries')\n",
    "plt.show()\n",
    "print(len(p))"
   ]
  },
  {
   "cell_type": "markdown",
   "metadata": {},
   "source": [
    "# Cluster Sums vs $E_\\mathrm{Generated}$"
   ]
  },
  {
   "cell_type": "code",
   "execution_count": null,
   "metadata": {},
   "outputs": [],
   "source": [
    "ecal_cluster_sum = np.sum(arrays['EcalEndcapPHitsReco.energy'],axis=-1)\n",
    "hcal_cluster_sum = np.sum(arrays['HcalEndcapPHitsReco.energy'],axis=-1)\n",
    "cluster_sum = ecal_cluster_sum + hcal_cluster_sum\n",
    "\n",
    "cluster_total = ECAL_total+HCAL_total\n",
    "p = np.sqrt(px*px + py*py+ pz*pz)\n",
    "gen_E = np.sqrt(p*p + mass*mass)-mass\n",
    "\n",
    "HCAL_total = ak.sum(HCALhits,axis=-1)\n",
    "ECAL_total = ak.sum(ECALhits,axis=-1)"
   ]
  },
  {
   "cell_type": "code",
   "execution_count": null,
   "metadata": {},
   "outputs": [],
   "source": [
    "print(np.shape(hcal_cluster_sum))\n",
    "print(np.shape(HCAL_total))\n",
    "print(np.shape(gen_E))"
   ]
  },
  {
   "cell_type": "code",
   "execution_count": null,
   "metadata": {},
   "outputs": [],
   "source": [
    "mask = np.full(len(HCAL_total),True)\n",
    "\n",
    "gen_E = gen_E[mask]\n",
    "HCAL_total = HCAL_total[mask]\n",
    "ECAL_total = ECAL_total[mask]\n",
    "cluster_total = ECAL_total+HCAL_total\n",
    "fig, axes = plt.subplots(nrows=1, ncols=3, figsize=(18, 6), constrained_layout=True)\n",
    "\n",
    "axes[0].scatter(gen_E,HCAL_total,alpha=0.005)\n",
    "axes[0].set_xlabel(\"Generated Energy\",fontsize=20)\n",
    "axes[0].set_ylabel(\"HCal Cell Sum\",fontsize=20)\n",
    "axes[0].set_title(\"Raw HCal Sum vs. $E_\\mathrm{Gen.}$\",fontsize=25)\n",
    "\n",
    "axes[1].scatter(gen_E,ECAL_total,alpha=0.005)\n",
    "axes[1].set_xlabel(\"Generated Energy\",fontsize=20)\n",
    "axes[1].set_ylabel(\"ECal Cell Sum\",fontsize=20)\n",
    "axes[1].set_title(\"Raw ECal Sum vs. $E_\\mathrm{Gen.}$\",fontsize=25)\n",
    "\n",
    "axes[2].scatter(gen_E,cluster_total,alpha=0.005)\n",
    "axes[2].set_xlabel(\"Generated Energy\",fontsize=20)\n",
    "axes[2].set_ylabel(\"ECal+HCal Cell Sum\",fontsize=20)\n",
    "axes[2].set_title(\"Raw HCal+ECal Sum vs. $E_\\mathrm{Gen.}$\",fontsize=25)\n",
    "_ = plt.suptitle(\"No Cuts\",fontsize=30)"
   ]
  },
  {
   "cell_type": "markdown",
   "metadata": {},
   "source": [
    "### Apply cell cuts"
   ]
  },
  {
   "cell_type": "code",
   "execution_count": null,
   "metadata": {},
   "outputs": [],
   "source": [
    "mip_E = 0.00006 #minimum ionizing particle\n",
    "spikey_E = 1e10\n",
    "max_T = 200\n",
    "    \n",
    "ecal_time_mask = arrays['EcalEndcapPHitsReco.time'] < max_T\n",
    "ecal_mip_mask = arrays['EcalEndcapPHitsReco.energy'] > mip_E\n",
    "ecal_spike_mask = arrays['EcalEndcapPHitsReco.energy'] <= spikey_E\n",
    "\n",
    "hcal_time_mask = arrays['HcalEndcapPHitsReco.time'] < max_T\n",
    "hcal_mip_mask = arrays['HcalEndcapPHitsReco.energy'] > mip_E\n",
    "hcal_spike_mask = arrays['HcalEndcapPHitsReco.energy'] <= spikey_E\n",
    "\n",
    "e_cell_cuts = [ecal_time_mask, ecal_spike_mask, ecal_mip_mask]\n",
    "h_cell_cuts = [hcal_time_mask, hcal_spike_mask, hcal_mip_mask]\n",
    "\n",
    "e_cell_mask = np.full(len(ecal_time_mask),True)\n",
    "h_cell_mask = np.full(len(hcal_time_mask),True)\n",
    "\n",
    "for e_cut,h_cut in zip(e_cell_cuts,h_cell_cuts):\n",
    "    e_cell_mask = np.logical_and(e_cell_mask,e_cut)\n",
    "    h_cell_mask = np.logical_and(h_cell_mask,h_cut)\n",
    "    \n",
    "\n",
    "ecal_cut_cluster_sum = np.sum(arrays['EcalEndcapPHitsReco.energy'][e_cell_mask],axis=-1)\n",
    "hcal_cut_cluster_sum = np.sum(arrays['HcalEndcapPHitsReco.energy'][h_cell_mask],axis=-1)\n",
    "cluster_cut_total = ecal_cut_cluster_sum+hcal_cut_cluster_sum\n",
    "\n",
    "print(hcal_cut_cluster_sum)\n",
    "print(HCAL_total)\n",
    "print(np.shape(hcal_cut_cluster_sum))"
   ]
  },
  {
   "cell_type": "markdown",
   "metadata": {},
   "source": [
    "### Apply Cluster Cuts"
   ]
  },
  {
   "cell_type": "code",
   "execution_count": null,
   "metadata": {},
   "outputs": [],
   "source": [
    "minGenE = 0.5\n",
    "minSum = 0.0\n",
    "gen_code_keep = 1\n",
    "min_theta = 1.0\n",
    "\n",
    "mask = np.full(len(HCAL_total),True)\n",
    "mask = np.logical_and(mask, gen_E > minGenE)\n",
    "mask = np.logical_and(mask,hcal_cut_cluster_sum > minSum)\n",
    "mask = np.logical_and(mask,ecal_cut_cluster_sum > minSum)\n",
    "#mask = np.logical_and(mask, genStat==gen_code_keep)\n",
    "#print(genStat==gen_code_keep)\n",
    "print(len(hcal_cut_cluster_sum[mask]))"
   ]
  },
  {
   "cell_type": "code",
   "execution_count": null,
   "metadata": {},
   "outputs": [],
   "source": [
    "fig, axes = plt.subplots(nrows=1, ncols=3, figsize=(18, 6), constrained_layout=True)\n",
    "\n",
    "axes[0].scatter(gen_E[mask],hcal_cut_cluster_sum[mask],alpha=0.005)\n",
    "axes[0].set_xlabel(\"Generated Energy\",fontsize=20)\n",
    "axes[0].set_ylabel(\"HCal Cell Sum\",fontsize=20)\n",
    "axes[0].set_title(\"Raw HCal Sum vs. $E_\\mathrm{Gen.}$\",fontsize=25)\n",
    "\n",
    "axes[1].scatter(gen_E[mask],ecal_cut_cluster_sum[mask],alpha=0.005)\n",
    "axes[1].set_xlabel(\"Generated Energy\",fontsize=20)\n",
    "axes[1].set_ylabel(\"ECal Cell Sum\",fontsize=20)\n",
    "axes[1].set_title(\"Raw ECal Sum vs. $E_\\mathrm{Gen.}$\",fontsize=25)\n",
    "\n",
    "axes[2].scatter(gen_E[mask],cluster_total[mask],alpha=0.005)\n",
    "axes[2].set_xlabel(\"Generated Energy\",fontsize=20)\n",
    "axes[2].set_ylabel(\"ECal+HCal Cell Sum\",fontsize=20)\n",
    "axes[2].set_title(\"Raw HCal+ECal Sum vs. $E_\\mathrm{Gen.}$\",fontsize=25)\n",
    "_ = plt.suptitle(\"With Cuts\",fontsize=30)"
   ]
  },
  {
   "cell_type": "markdown",
   "metadata": {},
   "source": [
    "### $\\uparrow$ If above is empty, increase the alpha from 0.005!"
   ]
  },
  {
   "cell_type": "code",
   "execution_count": null,
   "metadata": {},
   "outputs": [],
   "source": [
    "from copy import copy\n",
    "from matplotlib.colors import LogNorm\n",
    "fig, axes = plt.subplots(nrows=1, figsize=(14, 10), constrained_layout=True)\n",
    "cmap = copy(plt.cm.plasma)\n",
    "cmap.set_bad(cmap(0))\n",
    "\n",
    "cluster_edges=np.linspace(-0.1,2.5,121)\n",
    "truth_edges=np.linspace(-10,110,121)\n",
    "h, xedges, yedges = np.histogram2d(gen_E[mask],hcal_cut_cluster_sum[mask], bins=[truth_edges, cluster_edges])\n",
    "#xedges=yedges\n",
    "pcm = axes.pcolormesh(xedges, yedges, h.T, cmap=cmap,\n",
    "                         norm=LogNorm(vmin=1.0e-2,vmax=1.1e3), rasterized=True)\n",
    "cb = fig.colorbar(pcm, ax=axes, pad=0)\n",
    "cb.set_label(\"Counts\",fontsize=22)\n",
    "cb.ax.tick_params(labelsize=20)\n",
    "axes.set_xlabel(\"Generated Energy\",fontsize=22)\n",
    "plt.yticks(fontsize=20)\n",
    "plt.xticks(fontsize=20)\n",
    "plt.ylim(-0.1,2.5)\n",
    "plt.xlim(-0,101)\n",
    "axes.set_ylabel(\"HCal Sum Energy\",fontsize=25)\n",
    "axes.set_title(\"[ROOT] HCal Sum vs. Generated Energy\",fontsize=30)"
   ]
  }
 ],
 "metadata": {
  "kernelspec": {
   "display_name": "tensorflow",
   "language": "python",
   "name": "tensorflow"
  },
  "language_info": {
   "codemirror_mode": {
    "name": "ipython",
    "version": 3
   },
   "file_extension": ".py",
   "mimetype": "text/x-python",
   "name": "python",
   "nbconvert_exporter": "python",
   "pygments_lexer": "ipython3",
   "version": "3.8.12"
  }
 },
 "nbformat": 4,
 "nbformat_minor": 4
}
